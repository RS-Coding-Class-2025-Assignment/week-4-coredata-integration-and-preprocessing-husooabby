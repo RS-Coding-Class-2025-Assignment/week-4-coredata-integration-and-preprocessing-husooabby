{
 "cells": [
  {
   "cell_type": "code",
   "execution_count": null,
   "metadata": {},
   "outputs": [],
   "source": [
    "import tkinter as tk\n",
    "from tkinter import ttk\n",
    "import time\n",
    "\n",
    "root = tk.Tk()\n",
    "root.title(\"JH Step-Based Progress\")\n",
    "\n",
    "steps = [\"1\", \"2\", \"3\", \"4\", \"5\",\"6\", \"7\", \"8\", \"9\", \"10\"]\n",
    "progress = ttk.Progressbar(root, orient = \"horizontal\", length = 300, mode = \"determinate\")\n",
    "progress.grid(row=0, column=0, pady=20)\n",
    "\n",
    "status_label = ttk.Label(root, text = \"0\")\n",
    "status_label.grid(row=1, column=0)\n",
    "track_label = ttk.Label(root, text = \"0/10\")\n",
    "track_label.grid(row=2, column =0)\n",
    "percent_label = ttk.Label(root, text = \"0%\")\n",
    "percent_label.grid(row =0, column = 1)\n",
    "\n",
    "progress[\"maximum\"] = len(steps)\n",
    "\n",
    "def run():\n",
    "    for i in steps:\n",
    "        status_label.config(text = i)\n",
    "        track_label.config(text = f\"{i}/10\")\n",
    "        percent_label.config(text = f\"{int(i)*10}%\") #int(), float() 사용 안 하면 출력값 이상함.\n",
    "        progress.step(1)\n",
    "        root.update()\n",
    "        time.sleep(1)\n",
    "\n",
    "\n",
    "button = ttk.Button(root, text = \"Start\", command = run)\n",
    "button.grid(row=1, column=1)\n",
    "\n",
    "root.mainloop()"
   ]
  }
 ],
 "metadata": {
  "language_info": {
   "name": "python"
  }
 },
 "nbformat": 4,
 "nbformat_minor": 2
}
